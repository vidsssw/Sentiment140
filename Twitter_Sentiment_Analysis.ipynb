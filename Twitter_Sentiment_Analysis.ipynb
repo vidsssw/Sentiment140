{
  "nbformat": 4,
  "nbformat_minor": 0,
  "metadata": {
    "accelerator": "GPU",
    "colab": {
      "name": "Twitter_Sentiment_Analysis.ipynb",
      "provenance": [],
      "collapsed_sections": []
    },
    "kernelspec": {
      "display_name": "Python 3",
      "name": "python3"
    },
    "language_info": {
      "name": "python"
    }
  },
  "cells": [
    {
      "cell_type": "code",
      "metadata": {
        "colab": {
          "base_uri": "https://localhost:8080/"
        },
        "id": "PjOMCivBtnvS",
        "outputId": "c8a0dafe-8390-4d51-9d56-7d63dc741752"
      },
      "source": [
        "import pandas as pd\n",
        "import numpy as np\n",
        "import matplotlib.pyplot as plt\n",
        "import seaborn as sns\n",
        "import re\n",
        "import nltk\n",
        "from nltk.corpus import stopwords\n",
        "nltk.download('stopwords')\n",
        "from sklearn.feature_extraction.text import CountVectorizer\n",
        "from sklearn.model_selection import train_test_split\n",
        "from sklearn.ensemble import RandomForestClassifier\n",
        "import tensorflow as tf\n",
        "from nltk.stem import WordNetLemmatizer\n",
        "from sklearn.feature_extraction.text import TfidfVectorizer\n",
        "from gensim.models import word2vec\n",
        "from sklearn.metrics import confusion_matrix\n",
        "from sklearn.linear_model import LogisticRegression\n",
        "from sklearn.metrics import confusion_matrix, classification_report, accuracy_score\n",
        "from sklearn.tree import DecisionTreeClassifier\n",
        "from sklearn.neighbors import KNeighborsClassifier\n",
        "from sklearn.naive_bayes import GaussianNB\n",
        "from sklearn.svm import SVC\n",
        "from sklearn.model_selection import cross_val_score\n",
        "from sklearn.model_selection import KFold\n",
        "from nltk.sentiment.vader import SentimentIntensityAnalyzer"
      ],
      "execution_count": null,
      "outputs": [
        {
          "output_type": "stream",
          "text": [
            "[nltk_data] Downloading package stopwords to /root/nltk_data...\n",
            "[nltk_data]   Unzipping corpora/stopwords.zip.\n"
          ],
          "name": "stdout"
        },
        {
          "output_type": "stream",
          "text": [
            "/usr/local/lib/python3.7/dist-packages/nltk/twitter/__init__.py:20: UserWarning: The twython library has not been installed. Some functionality from the twitter package will not be available.\n",
            "  warnings.warn(\"The twython library has not been installed. \"\n"
          ],
          "name": "stderr"
        }
      ]
    },
    {
      "cell_type": "code",
      "metadata": {
        "colab": {
          "base_uri": "https://localhost:8080/"
        },
        "id": "gaAeIm-z7mNn",
        "outputId": "360085f5-68bc-49f2-db8a-0c273d071d9d"
      },
      "source": [
        "from google.colab import drive\n",
        "drive.mount('/content/drive')"
      ],
      "execution_count": null,
      "outputs": [
        {
          "output_type": "stream",
          "text": [
            "Mounted at /content/drive\n"
          ],
          "name": "stdout"
        }
      ]
    },
    {
      "cell_type": "markdown",
      "metadata": {
        "id": "znPeUSaNEAYf"
      },
      "source": [
        "***About the Dataset + Pre-Processing***"
      ]
    },
    {
      "cell_type": "code",
      "metadata": {
        "colab": {
          "base_uri": "https://localhost:8080/",
          "height": 191
        },
        "id": "4CWPb-HsxfXS",
        "outputId": "dba3549c-12f3-431d-8e1e-8e89b32dedfc"
      },
      "source": [
        "data = pd.read_csv('/content/drive/My Drive/training.1600000.processed.noemoticon.csv',encoding = \"ISO-8859-1\")\n",
        "data.columns = ['sentiment','id','date','query','special','text']\n",
        "data.head()"
      ],
      "execution_count": null,
      "outputs": [
        {
          "output_type": "execute_result",
          "data": {
            "text/html": [
              "<div>\n",
              "<style scoped>\n",
              "    .dataframe tbody tr th:only-of-type {\n",
              "        vertical-align: middle;\n",
              "    }\n",
              "\n",
              "    .dataframe tbody tr th {\n",
              "        vertical-align: top;\n",
              "    }\n",
              "\n",
              "    .dataframe thead th {\n",
              "        text-align: right;\n",
              "    }\n",
              "</style>\n",
              "<table border=\"1\" class=\"dataframe\">\n",
              "  <thead>\n",
              "    <tr style=\"text-align: right;\">\n",
              "      <th></th>\n",
              "      <th>sentiment</th>\n",
              "      <th>id</th>\n",
              "      <th>date</th>\n",
              "      <th>query</th>\n",
              "      <th>special</th>\n",
              "      <th>text</th>\n",
              "    </tr>\n",
              "  </thead>\n",
              "  <tbody>\n",
              "    <tr>\n",
              "      <th>0</th>\n",
              "      <td>0</td>\n",
              "      <td>1467810672</td>\n",
              "      <td>Mon Apr 06 22:19:49 PDT 2009</td>\n",
              "      <td>NO_QUERY</td>\n",
              "      <td>scotthamilton</td>\n",
              "      <td>is upset that he can't update his Facebook by ...</td>\n",
              "    </tr>\n",
              "    <tr>\n",
              "      <th>1</th>\n",
              "      <td>0</td>\n",
              "      <td>1467810917</td>\n",
              "      <td>Mon Apr 06 22:19:53 PDT 2009</td>\n",
              "      <td>NO_QUERY</td>\n",
              "      <td>mattycus</td>\n",
              "      <td>@Kenichan I dived many times for the ball. Man...</td>\n",
              "    </tr>\n",
              "    <tr>\n",
              "      <th>2</th>\n",
              "      <td>0</td>\n",
              "      <td>1467811184</td>\n",
              "      <td>Mon Apr 06 22:19:57 PDT 2009</td>\n",
              "      <td>NO_QUERY</td>\n",
              "      <td>ElleCTF</td>\n",
              "      <td>my whole body feels itchy and like its on fire</td>\n",
              "    </tr>\n",
              "    <tr>\n",
              "      <th>3</th>\n",
              "      <td>0</td>\n",
              "      <td>1467811193</td>\n",
              "      <td>Mon Apr 06 22:19:57 PDT 2009</td>\n",
              "      <td>NO_QUERY</td>\n",
              "      <td>Karoli</td>\n",
              "      <td>@nationwideclass no, it's not behaving at all....</td>\n",
              "    </tr>\n",
              "    <tr>\n",
              "      <th>4</th>\n",
              "      <td>0</td>\n",
              "      <td>1467811372</td>\n",
              "      <td>Mon Apr 06 22:20:00 PDT 2009</td>\n",
              "      <td>NO_QUERY</td>\n",
              "      <td>joy_wolf</td>\n",
              "      <td>@Kwesidei not the whole crew</td>\n",
              "    </tr>\n",
              "  </tbody>\n",
              "</table>\n",
              "</div>"
            ],
            "text/plain": [
              "   sentiment  ...                                               text\n",
              "0          0  ...  is upset that he can't update his Facebook by ...\n",
              "1          0  ...  @Kenichan I dived many times for the ball. Man...\n",
              "2          0  ...    my whole body feels itchy and like its on fire \n",
              "3          0  ...  @nationwideclass no, it's not behaving at all....\n",
              "4          0  ...                      @Kwesidei not the whole crew \n",
              "\n",
              "[5 rows x 6 columns]"
            ]
          },
          "metadata": {
            "tags": []
          },
          "execution_count": 16
        }
      ]
    },
    {
      "cell_type": "code",
      "metadata": {
        "id": "lHPh9QDvzEQP"
      },
      "source": [
        "data.drop(['id','date','query','special','sentiment'],axis = 1,inplace = True)\n",
        "df = data.sample(100000)"
      ],
      "execution_count": null,
      "outputs": []
    },
    {
      "cell_type": "code",
      "metadata": {
        "colab": {
          "base_uri": "https://localhost:8080/"
        },
        "id": "W0s8PF_RuSYN",
        "outputId": "e231aa77-084d-4d2d-d73f-a0cdefd3de35"
      },
      "source": [
        "from textblob import TextBlob\n",
        "nltk.download('vader_lexicon')\n",
        "from nltk.sentiment.vader import SentimentIntensityAnalyzer\n",
        "def percentage(part,whole):\n",
        " return 100 * float(part)/float(whole)\n",
        "noOfTweet = 5000\n",
        "tweets = df[\"text\"].head(5000)\n",
        "positive = 0\n",
        "negative = 0\n",
        "neutral = 0\n",
        "polarity = 0\n",
        "tweet_list = []\n",
        "neutral_list = []\n",
        "negative_list = []\n",
        "positive_list = []\n",
        "count = 0\n",
        "for tweet in tweets:\n",
        " tweet_list.append(tweet)\n",
        " analysis = TextBlob(tweet)\n",
        " count+=1\n",
        " score = SentimentIntensityAnalyzer().polarity_scores(tweet)\n",
        " neg = score[\"neg\"]\n",
        " neu = score[\"neu\"]\n",
        " pos = score[\"pos\"]\n",
        " comp = score[\"compound\"]\n",
        " polarity += analysis.sentiment.polarity\n",
        " #print(comp)\n",
        " if comp<0:\n",
        "   negative_list.append(tweet)\n",
        "   negative += 1\n",
        " elif comp>0:\n",
        "   positive_list.append(tweet)\n",
        "   positive += 1\n",
        " else:\n",
        "   neutral_list.append(tweet)\n",
        "   neutral += 1\n",
        "\n",
        "positive = percentage(positive, noOfTweet)\n",
        "negative = percentage(negative, noOfTweet)\n",
        "neutral = percentage(neutral, noOfTweet)\n",
        "polarity = percentage(polarity, noOfTweet)\n",
        "positive = format(positive, \".1f\")\n",
        "negative = format(negative, \".1f\")\n",
        "neutral = format(neutral, \".1f\")"
      ],
      "execution_count": null,
      "outputs": [
        {
          "output_type": "stream",
          "text": [
            "[nltk_data] Downloading package vader_lexicon to /root/nltk_data...\n",
            "[nltk_data]   Package vader_lexicon is already up-to-date!\n"
          ],
          "name": "stdout"
        }
      ]
    },
    {
      "cell_type": "code",
      "metadata": {
        "colab": {
          "base_uri": "https://localhost:8080/"
        },
        "id": "pQfZzMfPuov2",
        "outputId": "1dad24e4-af2b-4936-c809-e2a704ac0691"
      },
      "source": [
        "#Number of Tweets (Total, Positive, Negative, Neutral)\n",
        "tweet_list = pd.DataFrame(tweet_list)\n",
        "neutral_list = pd.DataFrame(neutral_list)\n",
        "negative_list = pd.DataFrame(negative_list)\n",
        "positive_list = pd.DataFrame(positive_list)\n",
        "print(\"total number: \",len(tweet_list))\n",
        "print(\"positive number: \",len(positive_list))\n",
        "print(\"negative number: \", len(negative_list))\n",
        "print(\"neutral number: \",len(neutral_list))"
      ],
      "execution_count": null,
      "outputs": [
        {
          "output_type": "stream",
          "text": [
            "total number:  5000\n",
            "positive number:  2272\n",
            "negative number:  1349\n",
            "neutral number:  1379\n"
          ],
          "name": "stdout"
        }
      ]
    },
    {
      "cell_type": "code",
      "metadata": {
        "colab": {
          "base_uri": "https://localhost:8080/",
          "height": 406
        },
        "id": "e7pP0TuPupSH",
        "outputId": "66aaaff4-74ae-4469-f673-94d09c3e2aea"
      },
      "source": [
        "labels = [\"Positive [\"+str(positive)+\"%]\" , \"Neutral [\"+str(neutral)+\"%]\",\"Negative [\"+str(negative)+\"%]\"]\n",
        "sizes = [positive, neutral, negative]\n",
        "colors = [\"yellowgreen\", \"blue\",\"red\"]\n",
        "patches, texts = plt.pie(sizes,colors=colors, startangle=90)\n",
        "plt.style.use(\"default\")\n",
        "plt.legend(labels)\n",
        "plt.axis(\"equal\")\n",
        "plt.show()"
      ],
      "execution_count": null,
      "outputs": [
        {
          "output_type": "display_data",
          "data": {
            "image/png": "[encoded data removed]",
            "text/plain": [
              "<Figure size 640x480 with 1 Axes>"
            ]
          },
          "metadata": {
            "tags": []
          }
        }
      ]
    },
    {
      "cell_type": "code",
      "metadata": {
        "colab": {
          "base_uri": "https://localhost:8080/"
        },
        "id": "FdK8eHBvu_VC",
        "outputId": "a892a964-78de-4c82-b0aa-7e5f4c99fd96"
      },
      "source": [
        "print(tweet_list)"
      ],
      "execution_count": null,
      "outputs": [
        {
          "output_type": "stream",
          "text": [
            "                                                      0\n",
            "0     I'm always the last one in the office....espec...\n",
            "1     @babblingbrookie It's your birthday?! ow..Happ...\n",
            "2                back from the casino a big fat loser! \n",
            "3     DAMMIT, right side of the earphones not workin...\n",
            "4     They dont have my believe bracelet anymore! I ...\n",
            "...                                                 ...\n",
            "4995  @msfitznham I like the new setup on your blog!...\n",
            "4996  @jbrinkman Man... I am surprised that I didn't...\n",
            "4997  @britt_mccormick wow way to be mean   haha but...\n",
            "4998        @mattfazzi  I hope you get well soon! &lt;3\n",
            "4999  Anyone been subscribed to sub-sub-Vice yoof we...\n",
            "\n",
            "[5000 rows x 1 columns]\n"
          ],
          "name": "stdout"
        }
      ]
    },
    {
      "cell_type": "code",
      "metadata": {
        "colab": {
          "base_uri": "https://localhost:8080/",
          "height": 335
        },
        "id": "T-wX0ksQv2eE",
        "outputId": "f41969c5-372d-496e-980d-97adee2835d9"
      },
      "source": [
        "df[[\"polarity\", \"subjectivity\"]] = df[\"text\"].apply(lambda Text: pd.Series(TextBlob(Text).sentiment))\n",
        "for index, row in df[\"text\"].iteritems():\n",
        " score = SentimentIntensityAnalyzer().polarity_scores(row)\n",
        " neg = score[\"neg\"]\n",
        " neu = score[\"neu\"]\n",
        " pos = score[\"pos\"]\n",
        " comp = score[\"compound\"]\n",
        " if neg > pos:\n",
        "  df.loc[index, \"sentiment\"] = \"negative\"\n",
        " elif pos > neg:\n",
        "  df.loc[index, \"sentiment\"] = \"positive\"\n",
        " else:\n",
        "  df.loc[index, \"sentiment\"] = \"neutral\"\n",
        "  df.loc[index, \"neg\"] = neg\n",
        "  df.loc[index, \"neu\"] = neu\n",
        "  df.loc[index, \"pos\"] = pos\n",
        "  df.loc[index, \"compound\"] = comp\n",
        "df.head(10)"
      ],
      "execution_count": null,
      "outputs": [
        {
          "output_type": "execute_result",
          "data": {
            "text/html": [
              "<div>\n",
              "<style scoped>\n",
              "    .dataframe tbody tr th:only-of-type {\n",
              "        vertical-align: middle;\n",
              "    }\n",
              "\n",
              "    .dataframe tbody tr th {\n",
              "        vertical-align: top;\n",
              "    }\n",
              "\n",
              "    .dataframe thead th {\n",
              "        text-align: right;\n",
              "    }\n",
              "</style>\n",
              "<table border=\"1\" class=\"dataframe\">\n",
              "  <thead>\n",
              "    <tr style=\"text-align: right;\">\n",
              "      <th></th>\n",
              "      <th>text</th>\n",
              "      <th>polarity</th>\n",
              "      <th>subjectivity</th>\n",
              "      <th>sentiment</th>\n",
              "      <th>neg</th>\n",
              "      <th>neu</th>\n",
              "      <th>pos</th>\n",
              "      <th>compound</th>\n",
              "    </tr>\n",
              "  </thead>\n",
              "  <tbody>\n",
              "    <tr>\n",
              "      <th>174094</th>\n",
              "      <td>I'm always the last one in the office....espec...</td>\n",
              "      <td>0.000000</td>\n",
              "      <td>0.066667</td>\n",
              "      <td>neutral</td>\n",
              "      <td>0.0</td>\n",
              "      <td>1.0</td>\n",
              "      <td>0.0</td>\n",
              "      <td>0.0</td>\n",
              "    </tr>\n",
              "    <tr>\n",
              "      <th>1298185</th>\n",
              "      <td>@babblingbrookie It's your birthday?! ow..Happ...</td>\n",
              "      <td>1.000000</td>\n",
              "      <td>0.300000</td>\n",
              "      <td>positive</td>\n",
              "      <td>NaN</td>\n",
              "      <td>NaN</td>\n",
              "      <td>NaN</td>\n",
              "      <td>NaN</td>\n",
              "    </tr>\n",
              "    <tr>\n",
              "      <th>1735</th>\n",
              "      <td>back from the casino a big fat loser!</td>\n",
              "      <td>0.000000</td>\n",
              "      <td>0.050000</td>\n",
              "      <td>negative</td>\n",
              "      <td>NaN</td>\n",
              "      <td>NaN</td>\n",
              "      <td>NaN</td>\n",
              "      <td>NaN</td>\n",
              "    </tr>\n",
              "    <tr>\n",
              "      <th>386369</th>\n",
              "      <td>DAMMIT, right side of the earphones not workin...</td>\n",
              "      <td>0.285714</td>\n",
              "      <td>0.535714</td>\n",
              "      <td>neutral</td>\n",
              "      <td>0.0</td>\n",
              "      <td>1.0</td>\n",
              "      <td>0.0</td>\n",
              "      <td>0.0</td>\n",
              "    </tr>\n",
              "    <tr>\n",
              "      <th>669307</th>\n",
              "      <td>They dont have my believe bracelet anymore! I ...</td>\n",
              "      <td>0.000000</td>\n",
              "      <td>0.000000</td>\n",
              "      <td>negative</td>\n",
              "      <td>NaN</td>\n",
              "      <td>NaN</td>\n",
              "      <td>NaN</td>\n",
              "      <td>NaN</td>\n",
              "    </tr>\n",
              "    <tr>\n",
              "      <th>205997</th>\n",
              "      <td>@Welshracer Bernie Ecclestone in any sort of c...</td>\n",
              "      <td>0.000000</td>\n",
              "      <td>0.000000</td>\n",
              "      <td>neutral</td>\n",
              "      <td>0.0</td>\n",
              "      <td>1.0</td>\n",
              "      <td>0.0</td>\n",
              "      <td>0.0</td>\n",
              "    </tr>\n",
              "    <tr>\n",
              "      <th>51753</th>\n",
              "      <td>I wanted to go and see the bunnies today, no s...</td>\n",
              "      <td>0.000000</td>\n",
              "      <td>0.500000</td>\n",
              "      <td>positive</td>\n",
              "      <td>NaN</td>\n",
              "      <td>NaN</td>\n",
              "      <td>NaN</td>\n",
              "      <td>NaN</td>\n",
              "    </tr>\n",
              "    <tr>\n",
              "      <th>1570789</th>\n",
              "      <td>looks like im pulling another all nighter caus...</td>\n",
              "      <td>0.302778</td>\n",
              "      <td>0.494444</td>\n",
              "      <td>positive</td>\n",
              "      <td>NaN</td>\n",
              "      <td>NaN</td>\n",
              "      <td>NaN</td>\n",
              "      <td>NaN</td>\n",
              "    </tr>\n",
              "    <tr>\n",
              "      <th>1528855</th>\n",
              "      <td>What a great weekend! Can't wait til the next....</td>\n",
              "      <td>1.000000</td>\n",
              "      <td>0.750000</td>\n",
              "      <td>positive</td>\n",
              "      <td>NaN</td>\n",
              "      <td>NaN</td>\n",
              "      <td>NaN</td>\n",
              "      <td>NaN</td>\n",
              "    </tr>\n",
              "    <tr>\n",
              "      <th>717209</th>\n",
              "      <td>Boring.. I hate it here! Nothing to do.. Huhu..</td>\n",
              "      <td>-1.000000</td>\n",
              "      <td>0.950000</td>\n",
              "      <td>negative</td>\n",
              "      <td>NaN</td>\n",
              "      <td>NaN</td>\n",
              "      <td>NaN</td>\n",
              "      <td>NaN</td>\n",
              "    </tr>\n",
              "  </tbody>\n",
              "</table>\n",
              "</div>"
            ],
            "text/plain": [
              "                                                      text  ...  compound\n",
              "174094   I'm always the last one in the office....espec...  ...       0.0\n",
              "1298185  @babblingbrookie It's your birthday?! ow..Happ...  ...       NaN\n",
              "1735                back from the casino a big fat loser!   ...       NaN\n",
              "386369   DAMMIT, right side of the earphones not workin...  ...       0.0\n",
              "669307   They dont have my believe bracelet anymore! I ...  ...       NaN\n",
              "205997   @Welshracer Bernie Ecclestone in any sort of c...  ...       0.0\n",
              "51753    I wanted to go and see the bunnies today, no s...  ...       NaN\n",
              "1570789  looks like im pulling another all nighter caus...  ...       NaN\n",
              "1528855  What a great weekend! Can't wait til the next....  ...       NaN\n",
              "717209    Boring.. I hate it here! Nothing to do.. Huhu..   ...       NaN\n",
              "\n",
              "[10 rows x 8 columns]"
            ]
          },
          "metadata": {
            "tags": []
          },
          "execution_count": 22
        }
      ]
    },
    {
      "cell_type": "code",
      "metadata": {
        "id": "bDygvpW3zxlQ"
      },
      "source": [
        "import string,re\n",
        "def pre_process(i):\n",
        "    i = re.compile(r'<[^>]+>').sub('',i)\n",
        "    i = re.sub(r\"\\s+[a-zA-Z]\\s+\", ' ', i)\n",
        "    i = re.sub(r\"([0-9]+)\", ' ', i)\n",
        "    table = str.maketrans(dict.fromkeys(string.punctuation))\n",
        "    i = i.translate(table)\n",
        "    i = re.sub(r'\\s+', ' ', i)\n",
        "    return i"
      ],
      "execution_count": null,
      "outputs": []
    },
    {
      "cell_type": "code",
      "metadata": {
        "id": "cFechTuTzRo1"
      },
      "source": [
        "stopwords = stopwords.words('english')"
      ],
      "execution_count": null,
      "outputs": []
    },
    {
      "cell_type": "code",
      "metadata": {
        "id": "9gbM9CsYzUX6"
      },
      "source": [
        "def remove_stopwords(text):\n",
        "    clean_text=' '.join([word for word in text.split() if word not in stopwords])\n",
        "    return clean_text"
      ],
      "execution_count": null,
      "outputs": []
    },
    {
      "cell_type": "code",
      "metadata": {
        "id": "sMS5NBumzWdD"
      },
      "source": [
        "df['Cleaned'] = df['text'].apply(lambda text:pre_process(text.lower()))\n",
        "\n",
        "df['Cleaned'] = df['Cleaned'].apply(lambda text : remove_stopwords(text.lower()))\n",
        "\n",
        "df['Cleaned'] = df['Cleaned'].apply(lambda x : x.split())"
      ],
      "execution_count": null,
      "outputs": []
    },
    {
      "cell_type": "code",
      "metadata": {
        "id": "T-UXnpCKzad8",
        "colab": {
          "base_uri": "https://localhost:8080/",
          "height": 191
        },
        "outputId": "32c79aef-a49c-4840-f7b4-bf981f70fc1d"
      },
      "source": [
        "df.head()"
      ],
      "execution_count": null,
      "outputs": [
        {
          "output_type": "execute_result",
          "data": {
            "text/html": [
              "<div>\n",
              "<style scoped>\n",
              "    .dataframe tbody tr th:only-of-type {\n",
              "        vertical-align: middle;\n",
              "    }\n",
              "\n",
              "    .dataframe tbody tr th {\n",
              "        vertical-align: top;\n",
              "    }\n",
              "\n",
              "    .dataframe thead th {\n",
              "        text-align: right;\n",
              "    }\n",
              "</style>\n",
              "<table border=\"1\" class=\"dataframe\">\n",
              "  <thead>\n",
              "    <tr style=\"text-align: right;\">\n",
              "      <th></th>\n",
              "      <th>text</th>\n",
              "      <th>polarity</th>\n",
              "      <th>subjectivity</th>\n",
              "      <th>sentiment</th>\n",
              "      <th>neg</th>\n",
              "      <th>neu</th>\n",
              "      <th>pos</th>\n",
              "      <th>compound</th>\n",
              "      <th>Cleaned</th>\n",
              "    </tr>\n",
              "  </thead>\n",
              "  <tbody>\n",
              "    <tr>\n",
              "      <th>174094</th>\n",
              "      <td>I'm always the last one in the office....espec...</td>\n",
              "      <td>0.000000</td>\n",
              "      <td>0.066667</td>\n",
              "      <td>neutral</td>\n",
              "      <td>0.0</td>\n",
              "      <td>1.0</td>\n",
              "      <td>0.0</td>\n",
              "      <td>0.0</td>\n",
              "      <td>[im, always, last, one, officeespecially, friday]</td>\n",
              "    </tr>\n",
              "    <tr>\n",
              "      <th>1298185</th>\n",
              "      <td>@babblingbrookie It's your birthday?! ow..Happ...</td>\n",
              "      <td>1.000000</td>\n",
              "      <td>0.300000</td>\n",
              "      <td>positive</td>\n",
              "      <td>NaN</td>\n",
              "      <td>NaN</td>\n",
              "      <td>NaN</td>\n",
              "      <td>NaN</td>\n",
              "      <td>[babblingbrookie, birthday, owhappy, birthday,...</td>\n",
              "    </tr>\n",
              "    <tr>\n",
              "      <th>1735</th>\n",
              "      <td>back from the casino a big fat loser!</td>\n",
              "      <td>0.000000</td>\n",
              "      <td>0.050000</td>\n",
              "      <td>negative</td>\n",
              "      <td>NaN</td>\n",
              "      <td>NaN</td>\n",
              "      <td>NaN</td>\n",
              "      <td>NaN</td>\n",
              "      <td>[back, casino, big, fat, loser]</td>\n",
              "    </tr>\n",
              "    <tr>\n",
              "      <th>386369</th>\n",
              "      <td>DAMMIT, right side of the earphones not workin...</td>\n",
              "      <td>0.285714</td>\n",
              "      <td>0.535714</td>\n",
              "      <td>neutral</td>\n",
              "      <td>0.0</td>\n",
              "      <td>1.0</td>\n",
              "      <td>0.0</td>\n",
              "      <td>0.0</td>\n",
              "      <td>[dammit, right, side, earphones, working, anym...</td>\n",
              "    </tr>\n",
              "    <tr>\n",
              "      <th>669307</th>\n",
              "      <td>They dont have my believe bracelet anymore! I ...</td>\n",
              "      <td>0.000000</td>\n",
              "      <td>0.000000</td>\n",
              "      <td>negative</td>\n",
              "      <td>NaN</td>\n",
              "      <td>NaN</td>\n",
              "      <td>NaN</td>\n",
              "      <td>NaN</td>\n",
              "      <td>[dont, believe, bracelet, anymore, wanna, cry]</td>\n",
              "    </tr>\n",
              "  </tbody>\n",
              "</table>\n",
              "</div>"
            ],
            "text/plain": [
              "                                                      text  ...                                            Cleaned\n",
              "174094   I'm always the last one in the office....espec...  ...  [im, always, last, one, officeespecially, friday]\n",
              "1298185  @babblingbrookie It's your birthday?! ow..Happ...  ...  [babblingbrookie, birthday, owhappy, birthday,...\n",
              "1735                back from the casino a big fat loser!   ...                    [back, casino, big, fat, loser]\n",
              "386369   DAMMIT, right side of the earphones not workin...  ...  [dammit, right, side, earphones, working, anym...\n",
              "669307   They dont have my believe bracelet anymore! I ...  ...     [dont, believe, bracelet, anymore, wanna, cry]\n",
              "\n",
              "[5 rows x 9 columns]"
            ]
          },
          "metadata": {
            "tags": []
          },
          "execution_count": 27
        }
      ]
    },
    {
      "cell_type": "code",
      "metadata": {
        "colab": {
          "base_uri": "https://localhost:8080/",
          "height": 517
        },
        "id": "mnK78VYf0i0v",
        "outputId": "8c06d39e-d011-4921-8e68-c898b292c3ef"
      },
      "source": [
        "sns.countplot(df.sentiment)"
      ],
      "execution_count": null,
      "outputs": [
        {
          "output_type": "stream",
          "text": [
            "/usr/local/lib/python3.7/dist-packages/seaborn/_decorators.py:43: FutureWarning: Pass the following variable as a keyword arg: x. From version 0.12, the only valid positional argument will be `data`, and passing other arguments without an explicit keyword will result in an error or misinterpretation.\n",
            "  FutureWarning\n"
          ],
          "name": "stderr"
        },
        {
          "output_type": "execute_result",
          "data": {
            "text/plain": [
              "<matplotlib.axes._subplots.AxesSubplot at 0x7fb3bece5f50>"
            ]
          },
          "metadata": {
            "tags": []
          },
          "execution_count": 28
        },
        {
          "output_type": "display_data",
          "data": {
            "image/png": "[encoded data removed]",
            "text/plain": [
              "<Figure size 640x480 with 1 Axes>"
            ]
          },
          "metadata": {
            "tags": []
          }
        }
      ]
    },
    {
      "cell_type": "markdown",
      "metadata": {
        "id": "b5CNMhCnDoQs"
      },
      "source": [
        "***Lemmatization & Vectorization***"
      ]
    },
    {
      "cell_type": "code",
      "metadata": {
        "colab": {
          "base_uri": "https://localhost:8080/"
        },
        "id": "jwsfLGc7HrZg",
        "outputId": "b3cc65ad-834f-4d3a-a091-df019038e35c"
      },
      "source": [
        "nltk.download('wordnet')"
      ],
      "execution_count": null,
      "outputs": [
        {
          "output_type": "stream",
          "text": [
            "[nltk_data] Downloading package wordnet to /root/nltk_data...\n",
            "[nltk_data]   Unzipping corpora/wordnet.zip.\n"
          ],
          "name": "stdout"
        },
        {
          "output_type": "execute_result",
          "data": {
            "text/plain": [
              "True"
            ]
          },
          "metadata": {
            "tags": []
          },
          "execution_count": 29
        }
      ]
    },
    {
      "cell_type": "code",
      "metadata": {
        "colab": {
          "base_uri": "https://localhost:8080/",
          "height": 191
        },
        "id": "LJVDK2wi0mht",
        "outputId": "c24a5269-9e73-4c9b-bdc6-a1c15b453a20"
      },
      "source": [
        "wordnet=WordNetLemmatizer()\n",
        "df['Cleaned'] = df['Cleaned'].apply(lambda x : [wordnet.lemmatize(i,pos=\"v\") for i in x])\n",
        "df['Cleaned'] = df['Cleaned'].apply(lambda x : ' '.join([w for w in x]))\n",
        "df['Cleaned'] = df['Cleaned'].apply(lambda x : ' '.join([w for w in x.split()]))\n",
        "df.head()"
      ],
      "execution_count": null,
      "outputs": [
        {
          "output_type": "execute_result",
          "data": {
            "text/html": [
              "<div>\n",
              "<style scoped>\n",
              "    .dataframe tbody tr th:only-of-type {\n",
              "        vertical-align: middle;\n",
              "    }\n",
              "\n",
              "    .dataframe tbody tr th {\n",
              "        vertical-align: top;\n",
              "    }\n",
              "\n",
              "    .dataframe thead th {\n",
              "        text-align: right;\n",
              "    }\n",
              "</style>\n",
              "<table border=\"1\" class=\"dataframe\">\n",
              "  <thead>\n",
              "    <tr style=\"text-align: right;\">\n",
              "      <th></th>\n",
              "      <th>text</th>\n",
              "      <th>polarity</th>\n",
              "      <th>subjectivity</th>\n",
              "      <th>sentiment</th>\n",
              "      <th>neg</th>\n",
              "      <th>neu</th>\n",
              "      <th>pos</th>\n",
              "      <th>compound</th>\n",
              "      <th>Cleaned</th>\n",
              "    </tr>\n",
              "  </thead>\n",
              "  <tbody>\n",
              "    <tr>\n",
              "      <th>174094</th>\n",
              "      <td>I'm always the last one in the office....espec...</td>\n",
              "      <td>0.000000</td>\n",
              "      <td>0.066667</td>\n",
              "      <td>neutral</td>\n",
              "      <td>0.0</td>\n",
              "      <td>1.0</td>\n",
              "      <td>0.0</td>\n",
              "      <td>0.0</td>\n",
              "      <td>im always last one officeespecially friday</td>\n",
              "    </tr>\n",
              "    <tr>\n",
              "      <th>1298185</th>\n",
              "      <td>@babblingbrookie It's your birthday?! ow..Happ...</td>\n",
              "      <td>1.000000</td>\n",
              "      <td>0.300000</td>\n",
              "      <td>positive</td>\n",
              "      <td>NaN</td>\n",
              "      <td>NaN</td>\n",
              "      <td>NaN</td>\n",
              "      <td>NaN</td>\n",
              "      <td>babblingbrookie birthday owhappy birthday wish...</td>\n",
              "    </tr>\n",
              "    <tr>\n",
              "      <th>1735</th>\n",
              "      <td>back from the casino a big fat loser!</td>\n",
              "      <td>0.000000</td>\n",
              "      <td>0.050000</td>\n",
              "      <td>negative</td>\n",
              "      <td>NaN</td>\n",
              "      <td>NaN</td>\n",
              "      <td>NaN</td>\n",
              "      <td>NaN</td>\n",
              "      <td>back casino big fat loser</td>\n",
              "    </tr>\n",
              "    <tr>\n",
              "      <th>386369</th>\n",
              "      <td>DAMMIT, right side of the earphones not workin...</td>\n",
              "      <td>0.285714</td>\n",
              "      <td>0.535714</td>\n",
              "      <td>neutral</td>\n",
              "      <td>0.0</td>\n",
              "      <td>1.0</td>\n",
              "      <td>0.0</td>\n",
              "      <td>0.0</td>\n",
              "      <td>dammit right side earphones work anymore</td>\n",
              "    </tr>\n",
              "    <tr>\n",
              "      <th>669307</th>\n",
              "      <td>They dont have my believe bracelet anymore! I ...</td>\n",
              "      <td>0.000000</td>\n",
              "      <td>0.000000</td>\n",
              "      <td>negative</td>\n",
              "      <td>NaN</td>\n",
              "      <td>NaN</td>\n",
              "      <td>NaN</td>\n",
              "      <td>NaN</td>\n",
              "      <td>dont believe bracelet anymore wanna cry</td>\n",
              "    </tr>\n",
              "  </tbody>\n",
              "</table>\n",
              "</div>"
            ],
            "text/plain": [
              "                                                      text  ...                                            Cleaned\n",
              "174094   I'm always the last one in the office....espec...  ...         im always last one officeespecially friday\n",
              "1298185  @babblingbrookie It's your birthday?! ow..Happ...  ...  babblingbrookie birthday owhappy birthday wish...\n",
              "1735                back from the casino a big fat loser!   ...                          back casino big fat loser\n",
              "386369   DAMMIT, right side of the earphones not workin...  ...           dammit right side earphones work anymore\n",
              "669307   They dont have my believe bracelet anymore! I ...  ...            dont believe bracelet anymore wanna cry\n",
              "\n",
              "[5 rows x 9 columns]"
            ]
          },
          "metadata": {
            "tags": []
          },
          "execution_count": 30
        }
      ]
    },
    {
      "cell_type": "code",
      "metadata": {
        "colab": {
          "base_uri": "https://localhost:8080/"
        },
        "id": "NsmQ9wHY0xb_",
        "outputId": "7b695b9b-7442-4583-aadb-0b28873d112c"
      },
      "source": [
        "cv = CountVectorizer(max_features = 2500)\n",
        "x = cv.fit_transform(df['Cleaned']).toarray()\n",
        "x.shape"
      ],
      "execution_count": null,
      "outputs": [
        {
          "output_type": "execute_result",
          "data": {
            "text/plain": [
              "(100000, 2500)"
            ]
          },
          "metadata": {
            "tags": []
          },
          "execution_count": 31
        }
      ]
    },
    {
      "cell_type": "markdown",
      "metadata": {
        "id": "0nfQWVB1D1Ar"
      },
      "source": [
        "***Creating Supervised Learning Models + Training***"
      ]
    },
    {
      "cell_type": "code",
      "metadata": {
        "id": "dTErX8W9060r"
      },
      "source": [
        "x_train,x_test,y_train,y_test = train_test_split(x,df['sentiment'],test_size = 0.2,random_state = 42)"
      ],
      "execution_count": null,
      "outputs": []
    },
    {
      "cell_type": "code",
      "metadata": {
        "id": "sPIElUvQaIOc"
      },
      "source": [
        "results_ACC = []"
      ],
      "execution_count": null,
      "outputs": []
    },
    {
      "cell_type": "code",
      "metadata": {
        "id": "4MIH7IOa3Q94",
        "colab": {
          "base_uri": "https://localhost:8080/",
          "height": 462
        },
        "outputId": "763692f5-076b-4059-d393-b412dc49ba47"
      },
      "source": [
        "clf_dt = DecisionTreeClassifier()     \n",
        "clf_dt = clf_dt.fit(x_train,y_train)\n",
        "\n",
        "ac = accuracy_score(y_test,clf_dt.predict(x_test))\n",
        "results_ACC.append(ac)\n",
        "\n",
        "print('Accuracy is: ',ac)\n",
        "cm = confusion_matrix(y_test,clf_dt.predict(x_test))\n",
        "sns.heatmap(cm,annot=True,fmt=\"d\")"
      ],
      "execution_count": null,
      "outputs": [
        {
          "output_type": "stream",
          "text": [
            "Accuracy is:  0.78955\n"
          ],
          "name": "stdout"
        },
        {
          "output_type": "execute_result",
          "data": {
            "text/plain": [
              "<matplotlib.axes._subplots.AxesSubplot at 0x7fb3bc27e210>"
            ]
          },
          "metadata": {
            "tags": []
          },
          "execution_count": 34
        },
        {
          "output_type": "display_data",
          "data": {
            "image/png": "[encoded data removed]",
            "text/plain": [
              "<Figure size 640x480 with 2 Axes>"
            ]
          },
          "metadata": {
            "tags": []
          }
        }
      ]
    },
    {
      "cell_type": "code",
      "metadata": {
        "id": "pBRD7CHP3icg",
        "colab": {
          "base_uri": "https://localhost:8080/",
          "height": 592
        },
        "outputId": "b774b30c-7116-45ed-9905-a0d59de13835"
      },
      "source": [
        "#Logistic Regression \n",
        "clf_lr = LogisticRegression()   \n",
        "clf_lr = clf_lr.fit(x_train,y_train)\n",
        "\n",
        "ac = accuracy_score(y_test,clf_lr.predict(x_test))\n",
        "results_ACC.append(ac)\n",
        "print('Accuracy is: ',ac)\n",
        "cm = confusion_matrix(y_test,clf_lr.predict(x_test))\n",
        "sns.heatmap(cm,annot=True,fmt=\"d\")"
      ],
      "execution_count": null,
      "outputs": [
        {
          "output_type": "stream",
          "text": [
            "/usr/local/lib/python3.7/dist-packages/sklearn/linear_model/_logistic.py:940: ConvergenceWarning: lbfgs failed to converge (status=1):\n",
            "STOP: TOTAL NO. of ITERATIONS REACHED LIMIT.\n",
            "\n",
            "Increase the number of iterations (max_iter) or scale the data as shown in:\n",
            "    https://scikit-learn.org/stable/modules/preprocessing.html\n",
            "Please also refer to the documentation for alternative solver options:\n",
            "    https://scikit-learn.org/stable/modules/linear_model.html#logistic-regression\n",
            "  extra_warning_msg=_LOGISTIC_SOLVER_CONVERGENCE_MSG)\n"
          ],
          "name": "stderr"
        },
        {
          "output_type": "stream",
          "text": [
            "Accuracy is:  0.85955\n"
          ],
          "name": "stdout"
        },
        {
          "output_type": "execute_result",
          "data": {
            "text/plain": [
              "<matplotlib.axes._subplots.AxesSubplot at 0x7fb3bbbebd90>"
            ]
          },
          "metadata": {
            "tags": []
          },
          "execution_count": 35
        },
        {
          "output_type": "display_data",
          "data": {
            "image/png": "[encoded data removed]",
            "text/plain": [
              "<Figure size 640x480 with 2 Axes>"
            ]
          },
          "metadata": {
            "tags": []
          }
        }
      ]
    },
    {
      "cell_type": "code",
      "metadata": {
        "id": "Z_VI1EN53nNZ",
        "colab": {
          "base_uri": "https://localhost:8080/",
          "height": 462
        },
        "outputId": "a33024de-0b9c-4808-f911-54ab49433765"
      },
      "source": [
        "#Naive Bayes classifier \n",
        "clf_nb = GaussianNB()    \n",
        "clf_nb = clf_nb.fit(x_train,y_train)\n",
        "\n",
        "ac = accuracy_score(y_test,clf_nb.predict(x_test))\n",
        "print('Accuracy is: ',ac)\n",
        "results_ACC.append(ac)\n",
        "cm = confusion_matrix(y_test,clf_nb.predict(x_test))\n",
        "sns.heatmap(cm,annot=True,fmt=\"d\")"
      ],
      "execution_count": null,
      "outputs": [
        {
          "output_type": "stream",
          "text": [
            "Accuracy is:  0.60505\n"
          ],
          "name": "stdout"
        },
        {
          "output_type": "execute_result",
          "data": {
            "text/plain": [
              "<matplotlib.axes._subplots.AxesSubplot at 0x7fb3bc4d0710>"
            ]
          },
          "metadata": {
            "tags": []
          },
          "execution_count": 36
        },
        {
          "output_type": "display_data",
          "data": {
            "image/png": "[encoded data removed]",
            "text/plain": [
              "<Figure size 640x480 with 2 Axes>"
            ]
          },
          "metadata": {
            "tags": []
          }
        }
      ]
    },
    {
      "cell_type": "code",
      "metadata": {
        "id": "6VdiJdid3s8q",
        "colab": {
          "base_uri": "https://localhost:8080/",
          "height": 462
        },
        "outputId": "19ca1e3a-f401-4f3b-af71-d48ab4bb7c5a"
      },
      "source": [
        "#random forest classifier \n",
        "clf_rf = RandomForestClassifier(random_state=43)      \n",
        "clr_rf = clf_rf.fit(x_train,y_train)\n",
        "\n",
        "ac = accuracy_score(y_test,clf_rf.predict(x_test))\n",
        "print('Accuracy is: ',ac)\n",
        "results_ACC.append(ac)\n",
        "cm = confusion_matrix(y_test,clf_rf.predict(x_test))\n",
        "sns.heatmap(cm,annot=True,fmt=\"d\")"
      ],
      "execution_count": null,
      "outputs": [
        {
          "output_type": "stream",
          "text": [
            "Accuracy is:  0.84\n"
          ],
          "name": "stdout"
        },
        {
          "output_type": "execute_result",
          "data": {
            "text/plain": [
              "<matplotlib.axes._subplots.AxesSubplot at 0x7fb3bb76c490>"
            ]
          },
          "metadata": {
            "tags": []
          },
          "execution_count": 37
        },
        {
          "output_type": "display_data",
          "data": {
            "image/png": "[encoded data removed]",
            "text/plain": [
              "<Figure size 640x480 with 2 Axes>"
            ]
          },
          "metadata": {
            "tags": []
          }
        }
      ]
    },
    {
      "cell_type": "markdown",
      "metadata": {
        "id": "Wfa2_EjkEHTE"
      },
      "source": [
        "*** Performance Comparison***"
      ]
    },
    {
      "cell_type": "code",
      "metadata": {
        "id": "oVg3n73WbS0r",
        "colab": {
          "base_uri": "https://localhost:8080/",
          "height": 562
        },
        "outputId": "b70d4b22-8042-4a3e-b219-33b608c6a8c0"
      },
      "source": [
        "model_list = ['DecisionTrees','LogisticRegression','NB','RandomForest']\n",
        "fig = plt.figure()\n",
        "results_ACC = list(map(lambda x: x/100,results_ACC))\n",
        "print(results_ACC)\n",
        "ax = fig.add_axes([0,0,1,1])\n",
        "ax.bar(model_list,results_ACC)\n",
        "ax.set_ylim([0,100])\n",
        "plt.show()"
      ],
      "execution_count": null,
      "outputs": [
        {
          "output_type": "stream",
          "text": [
            "[78.95500000000001, 85.95500000000001, 60.505, 84.0]\n"
          ],
          "name": "stdout"
        },
        {
          "output_type": "display_data",
          "data": {
            "image/png": "[encoded data removed]",
            "text/plain": [
              "<Figure size 640x480 with 1 Axes>"
            ]
          },
          "metadata": {
            "tags": []
          }
        }
      ]
    }
  ]
}